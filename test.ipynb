{
 "cells": [
  {
   "cell_type": "code",
   "execution_count": 15,
   "metadata": {},
   "outputs": [],
   "source": [
    "import numpy as np\n",
    "import pandas as pd\n",
    "import scipy.sparse as sp\n",
    "from numpy.linalg import norm\n",
    "from collections import Counter, defaultdict\n",
    "from scipy.sparse import csr_matrix\n",
    "import nltk"
   ]
  },
  {
   "cell_type": "code",
   "execution_count": 16,
   "metadata": {},
   "outputs": [
    {
     "name": "stderr",
     "output_type": "stream",
     "text": [
      "/Users/meenakshiparyani/anaconda/lib/python2.7/site-packages/ipykernel_launcher.py:11: DeprecationWarning: \n",
      ".ix is deprecated. Please use\n",
      ".loc for label based indexing or\n",
      ".iloc for positional indexing\n",
      "\n",
      "See the documentation here:\n",
      "http://pandas.pydata.org/pandas-docs/stable/indexing.html#deprecate_ix\n",
      "  # This is added back by InteractiveShellApp.init_path()\n",
      "/Users/meenakshiparyani/anaconda/lib/python2.7/site-packages/ipykernel_launcher.py:12: DeprecationWarning: \n",
      ".ix is deprecated. Please use\n",
      ".loc for label based indexing or\n",
      ".iloc for positional indexing\n",
      "\n",
      "See the documentation here:\n",
      "http://pandas.pydata.org/pandas-docs/stable/indexing.html#deprecate_ix\n",
      "  if sys.path[0] == '':\n"
     ]
    }
   ],
   "source": [
    "df = pd.read_csv(\n",
    "    filepath_or_buffer='data/train.dat.txt', \n",
    "    header=None, \n",
    "    sep='\\t')\n",
    "df1 =  pd.read_csv(\n",
    "    filepath_or_buffer='data/test.dat.txt', \n",
    "    header=None,\n",
    "    sep='\\n')\n",
    "9\n",
    "# separate names from classes\n",
    "vals = df.ix[:,:].values\n",
    "vals1 = df1.ix[:].values\n",
    "#print vals\n",
    "df.columns = [\"cls\",\"names\"]\n",
    "df1.columns = [\"test\"]"
   ]
  },
  {
   "cell_type": "code",
   "execution_count": 17,
   "metadata": {
    "collapsed": true
   },
   "outputs": [],
   "source": [
    "import re\n",
    "from bs4 import BeautifulSoup\n",
    "from nltk.corpus import stopwords\n",
    "from nltk.stem.wordnet import WordNetLemmatizer\n",
    "from nltk.stem import PorterStemmer\n",
    "from nltk.tokenize import sent_tokenize, word_tokenize\n",
    "\n",
    "df[\"names\"] = [BeautifulSoup(text).get_text() for text in df[\"names\"] ]\n",
    "df[\"names\"] = df[\"names\"].map(lambda x: re.sub(r'\\W+', \" \", x))\n",
    "df[\"names\"] = df[\"names\"].map(lambda x: re.sub(r'\\d+', \"\", x))\n",
    "df[\"names\"] = df[\"names\"].map(lambda x: WordNetLemmatizer().lemmatize(x))\n",
    "df[\"names\"] = df[\"names\"].map(lambda x: PorterStemmer().stem(x))\n",
    "df[\"names\"] = df[\"names\"].str.lower().str.split(\" \")\n",
    "\n",
    "stop = stopwords.words('english')\n",
    "df[\"names\"] = df[\"names\"].apply(lambda x: [item for item in x if item not in stop])\n",
    "\n",
    "df1[\"test\"] = [BeautifulSoup(text).get_text() for text in df1[\"test\"] ]\n",
    "df1[\"test\"] = df1[\"test\"].map(lambda x: re.sub(r'\\W+', \" \", x))\n",
    "df1[\"test\"] = df1[\"test\"].map(lambda x: re.sub(r'\\d+', \"\", x))\n",
    "df1[\"test\"] = df1[\"test\"].map(lambda x: WordNetLemmatizer().lemmatize(x))\n",
    "df1[\"test\"] = df1[\"test\"].map(lambda x: PorterStemmer().stem(x))\n",
    "df1[\"test\"] = df1[\"test\"].str.lower().str.split(\" \")\n",
    "df1[\"test\"] = df1[\"test\"].apply(lambda x: [item for item in x if item not in stop])"
   ]
  },
  {
   "cell_type": "code",
   "execution_count": 18,
   "metadata": {
    "collapsed": true
   },
   "outputs": [],
   "source": [
    "idx = {}\n",
    "tid = 0\n",
    "nnz = 0\n",
    "def build_matrix(docs):\n",
    "    r\"\"\" Build sparse matrix from a list of documents, \n",
    "    each of which is a list of word/terms in the document.  \n",
    "    \"\"\"\n",
    "    global idx\n",
    "    global tid\n",
    "    global nnz\n",
    "    nrows = len(docs)\n",
    "    for d in docs:\n",
    "        nnz += len(set(d))\n",
    "        for w in d:\n",
    "            if w not in idx:\n",
    "                idx[w] = tid\n",
    "                tid += 1\n",
    "    ncols = len(idx)\n",
    "    return ncols,nrows\n",
    "\n",
    "def matrices(ncols, nrows, docs):\n",
    "        \n",
    "    # set up memory\n",
    "    global nnz\n",
    "    ind = np.zeros(nnz, dtype=np.int)\n",
    "    val = np.zeros(nnz, dtype=np.double)\n",
    "    ptr = np.zeros(nrows+1, dtype=np.int)\n",
    "    global idx\n",
    "    i = 0  # document ID / row counter\n",
    "    n = 0  # non-zero counter\n",
    "    # transfer values\n",
    "    for d in docs:\n",
    "        cnt = Counter(d)\n",
    "        keys = list(k for k,_ in cnt.most_common())\n",
    "        l = len(keys)\n",
    "        for j,k in enumerate(keys):\n",
    "            ind[j+n] = idx[k]\n",
    "            val[j+n] = cnt[k]\n",
    "        ptr[i+1] = ptr[i] + l\n",
    "        n += l\n",
    "        i += 1\n",
    "    \n",
    "    mat = csr_matrix((val, ind, ptr), shape=(nrows, nnz), dtype=np.double)\n",
    "    mat.sort_indices()\n",
    "    return mat\n",
    "\n",
    "ncols1, nrows1 = build_matrix(df[\"names\"])\n",
    "ncols2, nrows2 = build_matrix(df1[\"test\"])\n",
    "m1 = matrices(ncols1, nrows1, df[\"names\"])\n",
    "m2 = matrices(ncols2, nrows2, df1[\"test\"])"
   ]
  },
  {
   "cell_type": "code",
   "execution_count": 19,
   "metadata": {
    "collapsed": true
   },
   "outputs": [],
   "source": [
    "def csr_l2normalize(mat,nnz, **kargs):\n",
    "    r\"\"\" Normalize the rows of a CSR matrix by their L-2 norm. \n",
    "    If copy is True, returns a copy of the normalized matrix.\n",
    "    \"\"\"\n",
    "    nrows = mat.shape[0]\n",
    "    ind, val, ptr = mat.indices, mat.data, mat.indptr\n",
    "    # normalize\n",
    "    for i in range(nrows):\n",
    "        rsum = 0.0    \n",
    "        for j in range(ptr[i], ptr[i+1]):\n",
    "            rsum += val[j]**2\n",
    "        if rsum == 0.0:\n",
    "            continue  # do not normalize empty rows\n",
    "        rsum = 1.0/np.sqrt(rsum)\n",
    "        for j in range(ptr[i], ptr[i+1]):\n",
    "            val[j] *= rsum\n",
    "    return csr_matrix((val, ind, ptr), shape=(nrows, nnz), dtype=np.double)\n",
    "global n_m1\n",
    "global n_m2\n",
    "n_m1 = csr_l2normalize(m1, nnz)\n",
    "n_m2 = csr_l2normalize(m2, nnz)"
   ]
  },
  {
   "cell_type": "code",
   "execution_count": 20,
   "metadata": {
    "collapsed": true
   },
   "outputs": [],
   "source": [
    "def classify(x, train, clstr, k=17):\n",
    "        r\"\"\" Classify vector x using kNN and majority vote rule given training data and associated classes\n",
    "        \"\"\"\n",
    "        # find nearest neighbors for x\n",
    "        dots = x.dot(train.T)\n",
    "        sims = list(zip(dots.indices, dots.data))\n",
    "        if len(sims) == 0:\n",
    "            # could not find any neighbors\n",
    "            return '+' if np.random.rand() > 0.5 else '-'\n",
    "        sims.sort(key=lambda x: x[1], reverse=True)\n",
    "        tc = Counter(clstr[s[0]] for s in sims[:k]).most_common(2)\n",
    "        if len(tc) < 2 or tc[0][1] > tc[1][1]:\n",
    "            # majority vote\n",
    "            return tc[0][0]\n",
    "        # tie break\n",
    "        tc = defaultdict(float)\n",
    "        for s in sims[:k]:\n",
    "            tc[clstr[s[0]]] += s[1]\n",
    "        return sorted(tc.items(), key=lambda x: x[1], reverse=True)[0][0]"
   ]
  },
  {
   "cell_type": "code",
   "execution_count": 21,
   "metadata": {
    "collapsed": true
   },
   "outputs": [],
   "source": [
    "outputfile = open(\"output.dat\", 'w')\n",
    "l = [ classify(n_m2[i], n_m1, df[\"cls\"]) for i in range(n_m2.shape[0]) ]\n",
    "for i in range(len(l)):\n",
    "    if str(l[i])==\"1\" or str(l[i])==\"+1\":\n",
    "        outputfile.write(\"+1\\n\")\n",
    "    if str(l[i])==\"-1\":\n",
    "        outputfile.write(\"-1\\n\")\n",
    "outputfile.close()  "
   ]
  }
 ],
 "metadata": {
  "kernelspec": {
   "display_name": "Python 2",
   "language": "python",
   "name": "python2"
  },
  "language_info": {
   "codemirror_mode": {
    "name": "ipython",
    "version": 2
   },
   "file_extension": ".py",
   "mimetype": "text/x-python",
   "name": "python",
   "nbconvert_exporter": "python",
   "pygments_lexer": "ipython2",
   "version": "2.7.13"
  }
 },
 "nbformat": 4,
 "nbformat_minor": 2
}
