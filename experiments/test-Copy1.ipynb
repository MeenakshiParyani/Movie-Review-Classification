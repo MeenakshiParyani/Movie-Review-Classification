{
 "cells": [
  {
   "cell_type": "code",
   "execution_count": 31,
   "metadata": {
    "collapsed": true
   },
   "outputs": [],
   "source": [
    "import numpy as np\n",
    "import pandas as pd\n",
    "import scipy.sparse as sp\n",
    "from numpy.linalg import norm\n",
    "from collections import Counter, defaultdict\n",
    "from scipy.sparse import csr_matrix\n",
    "import nltk\n",
    "import string\n",
    "import re\n",
    "from bs4 import BeautifulSoup\n",
    "from nltk.corpus import stopwords\n",
    "from nltk.stem.wordnet import WordNetLemmatizer\n",
    "from nltk.stem import PorterStemmer\n",
    "from nltk.tokenize import sent_tokenize, word_tokenize"
   ]
  },
  {
   "cell_type": "code",
   "execution_count": 32,
   "metadata": {
    "collapsed": true
   },
   "outputs": [],
   "source": [
    "trainData = pd.read_csv(filepath_or_buffer='data/train.dat.txt', header=None, sep='\\t',names=[\"rating\",\"review\"])[0:1]\n",
    "testData =  pd.read_csv(filepath_or_buffer='data/test.dat.txt', header=None,sep='\\n',names=[\"review\"])[0:1]\n"
   ]
  },
  {
   "cell_type": "code",
   "execution_count": 33,
   "metadata": {},
   "outputs": [
    {
     "name": "stdout",
     "output_type": "stream",
     "text": [
      "0    [although, , film, bruce, willis, , always, wo...\n",
      "Name: review, dtype: object\n",
      "pre-processing done\n"
     ]
    }
   ],
   "source": [
    "def remove_punctuation(s):\n",
    "    s = ''.join([i for i in s if i not in frozenset(string.punctuation)])\n",
    "    return s\n",
    "\n",
    "def preProcess(data):\n",
    "#     print(data)\n",
    "    data[\"review\"] = [BeautifulSoup(text).get_text() for text in data[\"review\"] ]\n",
    "    data[\"review\"] = data[\"review\"].map(lambda x: re.sub(r'\\W+', \" \", x))\n",
    "    data[\"review\"] = data[\"review\"].map(lambda x: re.sub(r'\\d+', \"\", x))\n",
    "    data[\"review\"] = data[\"review\"].map(lambda x: re.sub(r'\\b\\w{1,3}\\b', \"\", x))\n",
    "    data[\"review\"] = data[\"review\"].map(lambda x: WordNetLemmatizer().lemmatize(x))\n",
    "    data[\"review\"] = data[\"review\"].map(lambda x: PorterStemmer().stem(x))\n",
    "    data[\"review\"] = data[\"review\"].str.lower().str.split(\" \")\n",
    "    stop_words = stopwords.words('english')\n",
    "    data[\"review\"] = data[\"review\"].apply(lambda x: [item for item in x if item not in stop_words])\n",
    "#   data[\"review\"] = data[\"review\"].apply(lambda x: remove_punctuation(x))\n",
    "    return data;\n",
    "    \n",
    "trainData = preProcess(trainData)\n",
    "print(trainData['review'])\n",
    "testData = preProcess(testData)\n",
    "print('pre-processing done')"
   ]
  },
  {
   "cell_type": "code",
   "execution_count": 20,
   "metadata": {
    "collapsed": true
   },
   "outputs": [],
   "source": [
    "idx = {}\n",
    "tid = 0\n",
    "nnz = 0\n",
    "def build_matrix(docs):\n",
    "    r\"\"\" Build sparse matrix from a list of documents, \n",
    "    each of which is a list of word/terms in the document.  \n",
    "    \"\"\"\n",
    "    global idx\n",
    "    global tid\n",
    "    global nnz\n",
    "    nrows = len(docs)\n",
    "    for d in docs:\n",
    "        nnz += len(set(d))\n",
    "        for w in d:\n",
    "            if w not in idx:\n",
    "                idx[w] = tid\n",
    "                tid += 1\n",
    "    ncols = len(idx)\n",
    "    return ncols,nrows\n",
    "\n",
    "def combine_matrix(ncols, nrows, docs):\n",
    "        \n",
    "    # set up memory\n",
    "    global nnz\n",
    "    ind = np.zeros(nnz, dtype=np.int)\n",
    "    val = np.zeros(nnz, dtype=np.double)\n",
    "    ptr = np.zeros(nrows+1, dtype=np.int)\n",
    "    global idx\n",
    "    i = 0  # document ID / row counter\n",
    "    n = 0  # non-zero counter\n",
    "    # transfer values\n",
    "    for d in docs:\n",
    "        cnt = Counter(d)\n",
    "        keys = list(k for k,_ in cnt.most_common())\n",
    "        l = len(keys)\n",
    "        for j,k in enumerate(keys):\n",
    "            ind[j+n] = idx[k]\n",
    "            val[j+n] = cnt[k]\n",
    "        ptr[i+1] = ptr[i] + l\n",
    "        n += l\n",
    "        i += 1\n",
    "    \n",
    "    mat = csr_matrix((val, ind, ptr), shape=(nrows, nnz), dtype=np.double)\n",
    "    mat.sort_indices()\n",
    "    return mat\n",
    "\n",
    "ncols1, nrows1 = build_matrix(trainData[\"review\"])\n",
    "ncols2, nrows2 = build_matrix(testData[\"review\"])\n",
    "\n",
    "trainCSR = combine_matrix(ncols1, nrows1, trainData[\"review\"])\n",
    "testCSR = combine_matrix(ncols2, nrows2, testData[\"review\"])"
   ]
  },
  {
   "cell_type": "code",
   "execution_count": 21,
   "metadata": {
    "collapsed": true
   },
   "outputs": [],
   "source": [
    "def csr_l2normalize(mat,nnz, **kargs):\n",
    "    r\"\"\" Normalize the rows of a CSR matrix by their L-2 norm. \n",
    "    If copy is True, returns a copy of the normalized matrix.\n",
    "    \"\"\"\n",
    "    nrows = mat.shape[0]\n",
    "    ind, val, ptr = mat.indices, mat.data, mat.indptr\n",
    "    # normalize\n",
    "    for i in range(nrows):\n",
    "        rsum = 0.0    \n",
    "        for j in range(ptr[i], ptr[i+1]):\n",
    "            rsum += val[j]**2\n",
    "        if rsum == 0.0:\n",
    "            continue  # do not normalize empty rows\n",
    "        rsum = 1.0/np.sqrt(rsum)\n",
    "        for j in range(ptr[i], ptr[i+1]):\n",
    "            val[j] *= rsum\n",
    "    return csr_matrix((val, ind, ptr), shape=(nrows, nnz), dtype=np.double)\n",
    "\n",
    "# scale and normalize the matrix\n",
    "def csr_idf(mat, copy=False, **kargs):\n",
    "    r\"\"\" Scale a CSR matrix by idf. \n",
    "    Returns scaling factors as dict. If copy is True, \n",
    "    returns scaled matrix and scaling factors.\n",
    "    \"\"\"\n",
    "    if copy is True:\n",
    "        mat = mat.copy()\n",
    "    nrows = mat.shape[0]\n",
    "    nnz = mat.nnz\n",
    "    ind, val, ptr = mat.indices, mat.data, mat.indptr\n",
    "    # document frequency\n",
    "    df = defaultdict(int)\n",
    "    for i in ind:\n",
    "        df[i] += 1\n",
    "    # inverse document frequency\n",
    "    for k,v in df.items():\n",
    "        df[k] = np.log(nrows / float(v))  ## df turns to idf - reusing memory\n",
    "    # scale by idf\n",
    "    for i in range(0, nnz):\n",
    "        val[i] *= df[ind[i]]\n",
    "        \n",
    "    return df if copy is False else mat"
   ]
  },
  {
   "cell_type": "code",
   "execution_count": 22,
   "metadata": {
    "collapsed": true
   },
   "outputs": [],
   "source": [
    "global normTrain\n",
    "global normTest\n",
    "\n",
    "scaledTrain = csr_idf(trainCSR,copy=True)\n",
    "scaledTest = csr_idf(testCSR,copy=True)\n",
    "\n",
    "normTrain = csr_l2normalize(trainCSR, nnz)\n",
    "normTest = csr_l2normalize(testCSR, nnz)"
   ]
  },
  {
   "cell_type": "code",
   "execution_count": 23,
   "metadata": {
    "collapsed": true
   },
   "outputs": [],
   "source": [
    "def classify(x, train, clstr, k=17):\n",
    "        r\"\"\" Classify vector x using kNN and majority vote rule given training data and associated classes\n",
    "        \"\"\"\n",
    "        # find nearest neighbors for x\n",
    "        dots = x.dot(train.T)\n",
    "        sims = list(zip(dots.indices, dots.data))\n",
    "        if len(sims) == 0:\n",
    "            # could not find any neighbors\n",
    "            return '+' if np.random.rand() > 0.5 else '-'\n",
    "        sims.sort(key=lambda x: x[1], reverse=True)\n",
    "        tc = Counter(clstr[s[0]] for s in sims[:k]).most_common(k)\n",
    "        if len(tc) < 2 or tc[0][1] > tc[1][1]:\n",
    "            # majority vote\n",
    "            return tc[0][0]\n",
    "        # tie break\n",
    "        tc = defaultdict(float)\n",
    "        for s in sims[:k]:\n",
    "            tc[clstr[s[0]]] += s[1]\n",
    "        return sorted(tc.items(), key=lambda x: x[1], reverse=True)[0][0]"
   ]
  },
  {
   "cell_type": "code",
   "execution_count": 24,
   "metadata": {
    "collapsed": true
   },
   "outputs": [],
   "source": [
    "try:\n",
    "    outFile = open(\"data/final-output3.dat\", 'w')\n",
    "    l = [ classify(normTest[i], normTrain, trainData[\"rating\"]) for i in range(normTest.shape[0]) ]\n",
    "    for i in range(len(l)):\n",
    "        if str(l[i])==\"1\" or str(l[i])==\"+1\":\n",
    "            outFile.write(\"+1\\n\")\n",
    "        elif str(l[i])==\"-1\":\n",
    "            outFile.write(\"-1\\n\")\n",
    "except IOError as (errno, strerror):\n",
    "     print \"I/O error({0}): {1}\".format(errno, strerror)\n",
    "finally:\n",
    "    outFile.close()"
   ]
  }
 ],
 "metadata": {
  "kernelspec": {
   "display_name": "Python 2",
   "language": "python",
   "name": "python2"
  },
  "language_info": {
   "codemirror_mode": {
    "name": "ipython",
    "version": 2
   },
   "file_extension": ".py",
   "mimetype": "text/x-python",
   "name": "python",
   "nbconvert_exporter": "python",
   "pygments_lexer": "ipython2",
   "version": "2.7.13"
  }
 },
 "nbformat": 4,
 "nbformat_minor": 2
}
