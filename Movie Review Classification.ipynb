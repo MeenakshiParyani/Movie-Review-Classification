{
 "cells": [
  {
   "cell_type": "code",
   "execution_count": 348,
   "metadata": {
    "collapsed": true
   },
   "outputs": [],
   "source": [
    "import numpy as np\n",
    "import pandas as pd\n",
    "import scipy as sp\n",
    "from scipy import spatial\n",
    "\n",
    "import matplotlib.pyplot as plt # side-stepping mpl backend\n",
    "\n",
    "from sklearn.metrics.pairwise import cosine_similarity\n",
    "from sklearn.feature_extraction.text import TfidfVectorizer, CountVectorizer\n",
    "from sklearn.metrics import pairwise\n",
    "from sklearn.feature_selection import SelectPercentile, f_classif\n",
    "# from sklearn import cross_validation\n",
    "import heapq\n",
    "import string\n",
    "import re\n",
    "\n",
    "from nltk.corpus import stopwords\n",
    "from nltk import word_tokenize\n",
    "from collections import defaultdict\n",
    "from collections import Counter\n",
    "\n",
    "trainingData  = pd.read_csv('data/train.dat.txt', sep=\"\\t\", encoding='utf-8', header=None, names=[\"rating\",\"review\"])[0:5];\n",
    "testData = pd.read_csv('data/test.dat.txt', sep=\"\\t\", encoding='utf-8', header=None, names=[\"review\"])[0:5];\n"
   ]
  },
  {
   "cell_type": "code",
   "execution_count": 349,
   "metadata": {},
   "outputs": [
    {
     "name": "stdout",
     "output_type": "stream",
     "text": [
      "Before Cleaning\n",
      "   rating                                             review\n",
      "0      -1  Although a film with Bruce Willis is always wo...\n",
      "After Cleaning\n",
      "[[u'although', u'film', u'bruce', u'willis', u'always', u'worth', u'watching', u'better', u'skip', u'watched', u'television', u'plunk', u'cash', u'lucky', u'plot', u'develops', u'slowly', u'slowly', u'although', u'first', u'minutes', u'quite', u'believable', u'gets', u'unbelievable', u'towards', u'highly', u'questionable', u'seasoned', u'soldier', u'like', u'waters', u'would', u'disobey', u'direct', u'orders', u'even', u'would', u'rest', u'platoon', u'would', u'know', u'puts', u'direct', u'danger', u'know', u'certainly', u'follow', u'heck', u'says', u'despite', u'direct', u'orders', u'remember', u'still', u'nice', u'scenes', u'movie', u'somewhat', u'save', u'village', u'total', u'population', u'massacred', u'rebels', u'well', u'save', u'dozen', u'villagers', u'rest', u'already', u'killed', u'strange', u'part', u'take', u'trucks', u'rebels', u'left', u'behind', u'rather', u'foot', u'maybe', u'roads', u'unsafe', u'explanation', u'anyway', u'think', u'earned', u'movie', u'point', u'gave', u'made', u'movie', u'insult', u'brain', u'hence', u'completely', u'unbelievable', u'group', u'soldiers', u'kill', u'many', u'rebels', u'without', u'hurt', u'killed', u'near', u'loose', u'comrades', u'fight', u'army', u'nearly', u'believe', u'fight', u'army', u'many', u'kill', u'hundreds', u'loose', u'rounds', u'round', u'ammo', u'never', u'grenades', u'claymore', u'mines', u'machine', u'even', u'stuff', u'carrying', u'around', u'even', u'laptop', u'shows', u'activity', u'enemy', u'rebels', u'laptop', u'battery', u'goes', u'days', u'really', u'think', u'crap.', u'guess', u'turn', u'brain', u'completely', u'accept', u'rebels', u'bunch', u'idiots', u'give', u'movie', u'high', u'rating', u'skip', u'saves', u'time'], [u'movie', u'slower', u'molasses', u'january', u'alaska', u'togeather', u'preview', u'award', u'managing', u'every', u'seconds', u'interisting', u'preview', u'wake', u'people', u'watching', u'several', u'times', u'felt', u'woken', u'film', u'taken', u'hoping', u'something', u'actually', u'happen', u'nothing', u'ever', u'easy', u'loose', u'track', u'people', u'motives', u'characters', u'flat', u'uninteristing', u'movie', u'hoped', u'everyone', u'would', u'died', u'everyone', u'runs', u'around', u'either', u'contemptible', u'petty', u'pitiful', u'usually', u'three', u'worse', u'watched', u'minute', u'added', u'features', u'kicks', u'giggles', u'understand', u'people', u'smug', u'socially', u'aware', u'spend', u'time', u'movie', u'patting', u'back', u'might', u'worth', u'watching', u'brought', u'expecting', u'excitement', u'lecture', u'social', u'awareness', u'blery', u'eyes', u'sandman'], [u'interesting', u'film', u'actual', u'event', u'took', u'place', u'civil', u'vermont', u'kept', u'attention', u'regret', u'viewing', u'ever', u'read', u'raid', u'incident', u'curious', u'rebels', u'pulled', u'enjoy', u'historical', u'films', u'era.', u'major', u'complaint', u'confederate', u'uniforms', u'look', u'good', u'acting', u'little', u'stiff', u'times', u'like', u'eating', u'mashed', u'potatoes', u'teeth', u'wounded', u'soldier', u'playing', u'fetch', u'hound', u'little', u'strange', u'overall', u'descent', u'film'], [u'painfully', u'obvious', u'people', u'made', u'movie', u'never', u'seen', u'brilliant', u'spoofs', u'naked', u'shots', u'movie', u'terrible', u'actors', u'would', u'know', u'acting', u'even', u'face', u'felt', u'like', u'watching', u'total', u'pile', u'rubbish.', u'movie', u'stupid', u'humor', u'ever', u'sure', u'could', u'make', u'better', u'movie', u'friends', u'amazing', u'movie', u'fail', u'much', u'single', u'clever', u'funny', u'line', u'trace', u'intelligence', u'behind', u'pathetic', u'movie', u'like', u'meet', u'person', u'actually', u'likes', u'movie', u'yuck'], [u'movie', u'really', u'mixed', u'hand', u'story', u'concept', u'movie', u'really', u'good', u'tense', u'nice', u'plot', u'twists', u'hand', u'told', u'slow', u'without', u'style', u'uninvolved', u'still', u'regard', u'cause', u'average', u'thriller', u'simply', u'fine', u'cast.', u'maybe', u'sean', u'connery', u'miscast', u'role', u'mean', u'really', u'believable', u'main', u\"'hero\", u'father', u'young', u'daughter', u'played', u'still', u'young', u'scarlett', u'johansson', u'husband', u'kate', u'capshaw', u'feel', u'simply', u'role', u'really', u'credible', u'however', u'sean', u'connerey', u'course', u'great', u'actor', u'reason', u'still', u'able', u'carry', u'movie', u'good', u'course', u'helped', u'solid', u'supporting', u'cast', u'consists', u'actors', u'like', u'laurence', u'fishburne', u'blair', u'underwood', u'beatty', u'hope', u'lange', u'lynne', u'thigpen', u'harris', u'actors', u'really', u'good', u'highly', u'underused', u'time', u'real', u'shame', u'well', u'missed', u'opportunity', u'especially', u'harris', u'totally', u'great', u'role', u'psychopathic', u'serial', u'killer', u'truly', u'chilling', u'acting', u'superbly', u'normally', u'play', u'ruthless', u'chilling', u'sort', u'roles', u'movies', u'really', u'surprises', u'role', u'performance', u'alone', u'already', u'enough', u'reason', u'watch', u'movie', u'however', u'fact', u'story', u'told', u'without', u'much', u'style', u'formulaic', u'none', u'characters', u'movie', u'really', u'work', u'well', u'feels', u'distant.', u'really', u'storytelling', u'kills', u'movie', u'fine', u'potential', u'arne', u'glimcher', u'directs', u'movie', u'little', u'style', u'keeps', u'pace', u'times', u'viewers', u'never', u'really', u'involved', u'story', u'characters.', u'really', u'cause', u'enough', u'potential', u'fine', u'cast', u'slick', u'story', u'unexpected', u'twists', u'turns', u'nothing', u'seems', u'cast', u'story', u'reason', u'movie', u'still', u'average', u'thriller', u'probably', u'still', u'please', u'genre', u'however', u'eternal', u'shame', u'movie', u'lacking', u'story', u'telling', u'style', u'else', u'movie', u'could', u'real', u'classic', u'genre.', u'7/10']]\n",
      "5\n",
      "5\n"
     ]
    }
   ],
   "source": [
    "# \n",
    "print('Before Cleaning');\n",
    "print (trainingData[0:1])\n",
    "\n",
    "def preProcess(reviews):\n",
    "#     print(reviews);\n",
    "    processedReviews = [];\n",
    "    for review in reviews:\n",
    "        tokens = word_tokenize(review);\n",
    "        filteredTokens = [];\n",
    "        for token in list(tokens):\n",
    "#             print(token);\n",
    "            # if it is a stopword then eliminate\n",
    "            if token.lower() in stopwords.words('english'):\n",
    "#                 print('removing stopword ' + token);\n",
    "                continue;\n",
    "            # if it is punctuation then eliminate\n",
    "            if token.lower() in set(string.punctuation):\n",
    "#                 print('removing punct ' + token);\n",
    "                continue;\n",
    "            if len(token)<=3:\n",
    "#                 print('removing small ' + token);\n",
    "                continue;\n",
    "            token = token.lower();\n",
    "            filteredTokens.append(token);\n",
    "#         print(filteredTokens);\n",
    "        processedReviews.append(filteredTokens);\n",
    "#     print(len(processedReviews));\n",
    "    return processedReviews;\n",
    "print('After Cleaning')\n",
    "XTrain = preProcess(trainingData['review']);\n",
    "print(XTrain);\n",
    "print (len(XTrain));\n",
    "XTest = preProcess(testData['review']);\n",
    "print (len(XTest));"
   ]
  },
  {
   "cell_type": "code",
   "execution_count": 350,
   "metadata": {},
   "outputs": [
    {
     "name": "stdout",
     "output_type": "stream",
     "text": [
      "Number of unique words: 375.\n",
      "Number of unique words: 277.\n",
      "375\n",
      "277\n"
     ]
    }
   ],
   "source": [
    "# count frequencies for all words in the Training data\n",
    "def countFrequency(data):\n",
    "    wordCountInData = Counter()\n",
    "    for d in data:\n",
    "    #     print(d);\n",
    "        for w in d:\n",
    "    #         print(w);\n",
    "            if w not in wordCountInData:\n",
    "                wordCountInData[w]=1\n",
    "            else:\n",
    "                wordCountInData[w] += 1\n",
    "    print(\"Number of unique words: %d.\" % len(wordCountInData));\n",
    "    return wordCountInData;\n",
    "\n",
    "wordCountInTrainingData = countFrequency(XTrain);\n",
    "wordCountInTestData = countFrequency(XTest);\n",
    "print(len(wordCountInTrainingData));\n",
    "print(len(wordCountInTestData));"
   ]
  },
  {
   "cell_type": "code",
   "execution_count": 351,
   "metadata": {},
   "outputs": [
    {
     "name": "stdout",
     "output_type": "stream",
     "text": [
      "188\n",
      "139\n"
     ]
    }
   ],
   "source": [
    "#Top percent of training data\n",
    "topPct = 0.5;\n",
    "topPctOfTraining = wordCountInTrainingData.most_common(int(round(len(wordCountInTrainingData)*topPct)));\n",
    "topPctOfTest = wordCountInTestData.most_common(int(round(len(wordCountInTestData)*topPct)));\n",
    "\n",
    "# Get a set of topPctOfTraining\n",
    "topPctOfTrainingSet = set()\n",
    "for word in topPctOfTraining:\n",
    "    topPctOfTrainingSet.add(word[0]);\n",
    "\n",
    "# Get a set of topPctOfTest\n",
    "topPctOfTestSet = set()\n",
    "for word in topPctOfTest:\n",
    "    topPctOfTestSet.add(word[0]);\n",
    "    \n",
    "# print(topPctOfTrainingSet);\n",
    "# print(topPctOfTestSet);\n",
    "print(len(topPctOfTrainingSet));\n",
    "print(len(topPctOfTestSet));"
   ]
  },
  {
   "cell_type": "code",
   "execution_count": 352,
   "metadata": {},
   "outputs": [
    {
     "name": "stdout",
     "output_type": "stream",
     "text": [
      "Number of unique words common in both test and train: 21.\n"
     ]
    }
   ],
   "source": [
    "testTrainSet =  set.intersection(topPctOfTrainingSet,topPctOfTestSet);\n",
    "print(\"Number of unique words common in both test and train: %d.\" % len(testTrainSet));\n",
    "# print(testTrainSet);"
   ]
  },
  {
   "cell_type": "code",
   "execution_count": 353,
   "metadata": {},
   "outputs": [
    {
     "name": "stdout",
     "output_type": "stream",
     "text": [
      "21\n"
     ]
    }
   ],
   "source": [
    "cnt = Counter(testTrainSet);\n",
    "top_percentile = 1.0\n",
    "features = cnt.most_common(int(round(len(cnt)*top_percentile)))\n",
    "featuresCount = len(features)\n",
    "# print(features);\n",
    "print(featuresCount)"
   ]
  },
  {
   "cell_type": "code",
   "execution_count": 354,
   "metadata": {},
   "outputs": [
    {
     "name": "stdout",
     "output_type": "stream",
     "text": [
      "21\n",
      "[u'enjoy', u'even', u'great', u'made', u'like', u'supporting', u'brilliant', u'movie', u'never', u'watch', u'actors', u'worth', u'role', u'know', u'still', u'time', u'well', u'every', u'work', u'think', u'film']\n"
     ]
    }
   ],
   "source": [
    "featureList= [];\n",
    "for feature in features:\n",
    "    featureList.append(feature[0])\n",
    "print(len(featureList));\n",
    "print(featureList);"
   ]
  },
  {
   "cell_type": "code",
   "execution_count": 355,
   "metadata": {},
   "outputs": [],
   "source": [
    "# #Buid CSR matrix\n",
    "\n",
    "from collections import Counter\n",
    "from scipy.sparse import csr_matrix\n",
    "def build_matrix(docs):\n",
    "    r\"\"\" Build sparse matrix from a list of documents, \n",
    "    each of which is a list of word/terms in the document.  \n",
    "    \"\"\"\n",
    "#     print('-----doc---');\n",
    "#     print(type(docs))\n",
    "    dim = len(featureList)\n",
    "    print(dim)\n",
    "    feature_set = set(featureList[:dim])\n",
    "    print(feature_set);\n",
    "    nrows = len(docs)\n",
    "    idx = {}\n",
    "    tid = 0\n",
    "    nnz = 0\n",
    "    for d in docs:\n",
    "        set_d = set(d)\n",
    "        d = list(set.intersection(feature_set,set_d))\n",
    "        nnz += len(set(d))\n",
    "        for w in d:\n",
    "            if w not in idx:\n",
    "                idx[w] = tid\n",
    "                tid += 1\n",
    "    ncols = len(idx)\n",
    "        \n",
    "    # set up memory\n",
    "    ind = np.zeros(nnz, dtype=np.int)\n",
    "    val = np.zeros(nnz, dtype=np.double)\n",
    "    ptr = np.zeros(nrows+1, dtype=np.int)\n",
    "    i = 0  # document ID / row counter\n",
    "    n = 0  # non-zero counter\n",
    "    # transfer values\n",
    "    for d in docs:\n",
    "        set_d = set(d)\n",
    "        d = list(set.intersection(feature_set,set_d))\n",
    "        cnt = Counter(d)\n",
    "        keys = list(k for k,_ in cnt.most_common())\n",
    "        l = len(keys)\n",
    "        for j,k in enumerate(keys):\n",
    "            ind[j+n] = idx[k]\n",
    "            val[j+n] = cnt[k]\n",
    "        ptr[i+1] = ptr[i] + l\n",
    "        n += l\n",
    "        i += 1\n",
    "            \n",
    "    mat = csr_matrix((val, ind, ptr), shape=(nrows, ncols), dtype=np.double)\n",
    "    mat.sort_indices()\n",
    "    \n",
    "    return mat\n",
    "\n",
    "\n",
    "def csr_info(mat, name=\"\", non_empy=False):\n",
    "    r\"\"\" Print out info about this CSR matrix. If non_empy, \n",
    "    report number of non-empty rows and cols as well\n",
    "    \"\"\"\n",
    "    if non_empy:\n",
    "        print(\"%s [nrows %d (%d non-empty), ncols %d (%d non-empty), nnz %d]\" % (\n",
    "                name, mat.shape[0], \n",
    "                sum(1 if mat.indptr[i+1] > mat.indptr[i] else 0 \n",
    "                for i in range(mat.shape[0])), \n",
    "                mat.shape[1], len(np.unique(mat.indices)), \n",
    "                len(mat.data)))\n",
    "    else:\n",
    "        print( \"%s [nrows %d, ncols %d, nnz %d]\" % (name, \n",
    "                mat.shape[0], mat.shape[1], len(mat.data)) )"
   ]
  },
  {
   "cell_type": "code",
   "execution_count": 356,
   "metadata": {},
   "outputs": [
    {
     "name": "stdout",
     "output_type": "stream",
     "text": [
      "   rating                                             review\n",
      "0      -1  Although a film with Bruce Willis is always wo...\n",
      "1      -1  This movie was slower then Molasses in January...\n",
      "2      -1  Interesting film about an actual event that to...\n",
      "3      -1  It's painfully obvious that the people who mad...\n",
      "4       1  This movie really is a mixed bag. On the one h...\n",
      "[[u'Although', u'a', u'film', u'with', u'Bruce', u'Willis', u'is', u'always', u'worth', u'watching,', u'you', u'better', u'skip', u'this', u'one.', u'I', u'watched', u'this', u'one', u'on', u'television,', u'so', u'I', u\"didn't\", u'have', u'to', u'plunk', u'down', u'cash', u'for', u'it.', u'Lucky', u'me.<br', u'/><br', u'/>The', u'plot', u'develops', u'slowly,', u'very', u'slowly.', u'Although', u'the', u'first', u'30', u'minutes', u'or', u'so', u'are', u'quite', u'believable,', u'it', u'gets', u'more', u'and', u'more', u'unbelievable', u'towards', u'the', u'end.', u'It', u'is', u'highly', u'questionable,', u'if', u'a', u'seasoned', u'soldier', u'like', u'Lt.', u'Waters', u'would', u'disobey', u'direct', u'orders.', u'And', u'even', u'if', u'he', u'would,', u'if', u'the', u'rest', u'of', u'his', u'platoon', u'would.', u'They', u'know', u'he', u'puts', u'them', u'in', u'direct', u'danger,', u'and', u'they', u'know', u'they', u'will', u'certainly', u'die', u'if', u'they', u'follow', u'him,', u'but', u'what', u'the', u'heck,', u'he', u'is', u'our', u'Lt.', u'so', u\"let's\", u'do', u'what', u'he', u'says', u'(despite', u'the', u'direct', u'orders,', u'remember).<br', u'/><br', u'/>Still,', u'there', u'are', u'some', u'nice', u'scenes', u'in', u'this', u'movie.', u'They', u'somewhat', u'save', u'a', u'village,', u'where', u'the', u'total', u'population', u'is', u'being', u'massacred', u'by', u'the', u'rebels.', u'Well,', u'they', u'save', u'a', u'dozen', u'villagers', u'or', u'so,', u'the', u'rest', u'was', u'already', u'killed.', u'The', u'strange', u'part', u'of', u'it,', u'that', u'they', u'did', u'take', u'the', u'trucks', u'which', u'the', u'rebels', u'left', u'behind.', u'They', u'rather', u'go', u'on', u'foot.', u'Maybe', u'because', u'the', u'roads', u'are', u'unsafe,', u'but', u'there', u'was', u'no', u'explanation', u'for', u'it.', u'Anyway.', u'I', u'think', u'this', u'was', u'what', u'earned', u'the', u'movie', u'the', u'one', u'point', u'I', u'gave', u'it.<br', u'/><br', u'/>What', u'made', u'this', u'movie', u'an', u'insult', u'to', u'the', u'brain', u'and', u'hence', u'completely', u'unbelievable', u'is', u'that', u'a', u'group', u'of', u'7', u'soldiers', u'can', u'kill', u'of', u'so', u'many', u'rebels', u'without', u'being', u'hurt', u'or', u'killed', u'themselves.', u'Only', u'near', u'the', u'end', u'they', u'loose', u'a', u'few', u'comrades.', u'And', u'that', u'is', u'only', u'because', u'they', u'have', u'to', u'fight', u'of', u'an', u'army', u'of', u'nearly', u'500', u'or', u'more.', u'Can', u'you', u'believe', u'that?<br', u'/><br', u'/>They', u'fight', u'of', u'an', u'army', u'of', u'so', u'many,', u'kill', u'hundreds', u'of', u'them,', u'and', u'only', u'loose', u'a', u'few', u'of', u'themselves.', u'And', u'they', u'have', u'rounds', u'and', u'round', u'of', u'ammo.', u'Never', u'run', u'out', u'of', u'it.', u'Grenades', u'and', u'claymore', u'mines,', u'an', u'M60', u'machine', u'gun', u'and', u'even', u'an', u'RPG.', u'Where', u'do', u'they', u'get', u'this', u'stuff.', u'Carrying', u'it', u'around', u'or', u'what?', u'They', u'even', u'got', u'a', u'laptop', u'which', u'shows', u'them', u'the', u'activity', u'of', u'enemy', u'rebels.', u'And', u'this', u'laptop', u'has', u'a', u'battery', u'which', u'goes', u'on', u'for', u'days.', u'Really?', u'Who', u'think', u'up', u'this', u'crap.<br', u'/><br', u'/>I', u'guess', u'if', u'you', u'turn', u'off', u'your', u'brain', u'completely', u'and', u'accept', u'that', u'the', u'rebels', u'are', u'a', u'bunch', u'of', u'idiots,', u'you', u'give', u'this', u'movie', u'a', u'high', u'rating.', u'If', u'not,', u'skip', u'this', u'one.', u'It', u'saves', u'you', u'time.'], [u'This', u'movie', u'was', u'slower', u'then', u'Molasses', u'in', u'January...', u'in', u'Alaska.', u'The', u'man', u'who', u'put', u'togeather', u'the', u'preview', u'should', u'get', u'an', u'award', u'for', u'managing', u'to', u'put', u'every', u'one', u'of', u'the', u'30', u'seconds', u'that', u'were', u'interisting', u'into', u'the', u'preview.', u'I', u'had', u'to', u'wake', u'up', u'the', u'people', u'I', u'was', u'watching', u'it', u'with,', u'several', u'times.', u'After', u'it', u'was', u'over,', u'I', u'felt', u'bad', u'for', u'having', u'woken', u'them', u'up.', u'<br', u'/><br', u'/>Most', u'of', u'the', u'film', u'is', u'taken', u'up', u'with', u'hoping', u'something', u'will', u'actually', u'happen,', u'but', u'nothing', u'ever', u'does.', u'It', u'was', u'easy', u'to', u'loose', u'track', u'of', u\"people's\", u'motives,', u'and', u'the', u'characters', u'were', u'flat', u'and', u'uninteristing.', u'By', u'the', u'end', u'of', u'the', u'movie,', u'you', u'just', u'hoped', u'everyone', u'would', u'died.', u'Everyone', u'runs', u'around', u'either', u'being', u'contemptible,', u'petty,', u'or', u'pitiful,', u'and', u'usually', u'all', u'three.', u'<br', u'/><br', u'/>And', u'worse,', u'we', u'watched', u'a', u'minute', u'or', u'two', u'of', u'the', u'added', u'features,', u'just', u'for', u'kicks', u'and', u'giggles', u'you', u'understand,', u'and', u'all', u'that', u'we', u'saw', u'was', u'people', u'being', u'smug', u'about', u'how', u'socially', u'aware', u'they', u'are.', u'If', u'they', u'had', u'spend', u'the', u'time', u'on', u'the', u'movie', u'that', u'they', u'did', u'patting', u'themselves', u'on', u'the', u'back,', u'it', u'might', u'have', u'been', u'worth', u'watching.', u'<br', u'/><br', u'/>I', u'was', u'brought', u'in', u'expecting', u'the', u'excitement', u'of', u\"'24.'\", u'I', u'got', u'a', u'lecture', u'on', u'social', u'awareness', u'through', u'the', u'blery', u'eyes', u'of', u'the', u'sandman.'], [u'Interesting', u'film', u'about', u'an', u'actual', u'event', u'that', u'took', u'place', u'during', u'the', u'Civil', u'War', u'in', u'Vermont.', u'It', u'kept', u'my', u'attention', u'to', u'the', u'end', u'and', u'I', u\"don't\", u'regret', u'viewing', u'it.', u'I', u\"haven't\", u'ever', u'read', u'any', u'on', u'this', u'raid', u'incident', u'so', u'I', u'was', u'curious', u'to', u'see', u'if', u'the', u'rebels', u'pulled', u'it', u'off.', u'I', u'enjoy', u'historical', u'films', u'from', u'that', u'era.<br', u'/><br', u'/>My', u'major', u'complaint', u'is', u'with', u'the', u'Confederate', u'uniforms.', u'They', u'look', u'too', u'good!!!', u'The', u'acting', u'was', u'a', u'little', u'stiff', u'at', u'times.', u'I', u'like', u'the', u'old', u'man', u'eating', u'the', u'mashed', u'potatoes', u'because', u'he', u\"didn't\", u'have', u'any', u'teeth.', u'The', u'wounded', u'soldier', u'playing', u'fetch', u'with', u'a', u'hound', u'was', u'a', u'little', u'strange.', u'Overall,', u'it', u'was', u'a', u'descent', u'film.'], [u\"It's\", u'painfully', u'obvious', u'that', u'the', u'people', u'who', u'made', u'this', u'\"movie\"', u'have', u'never', u'seen', u'such', u'brilliant', u'spoofs', u'as', u'\"The', u'Naked', u'Gun\"', u'and', u'\"Hot', u'Shots\".', u'This', u'movie', u'is', u'terrible,', u'and', u'so', u'are', u'the', u'actors.', u'They', u\"wouldn't\", u'know', u'acting', u'even', u'if', u'it', u'hit', u'them', u'in', u'the', u'face,', u'as', u'I', u'felt', u'like', u'doing', u'while', u'watching', u'this', u'total', u'pile', u'of', u'rubbish.<br', u'/><br', u'/>The', u'movie', u'is', u'stupid', u'and', u'has', u'no', u'humor', u'in', u'it', u'what', u'so', u'ever.', u\"I'm\", u'SURE', u'that', u'I', u'could', u'make', u'a', u'better', u'movie', u'with', u'my', u'friends.', u'To', u'me', u\"it's\", u'amazing', u'that', u'a', u'movie', u'can', u'fail', u'this', u'much.', u'Not', u'a', u'single', u'clever', u'or', u'funny', u'line.', u'No', u'trace', u'of', u'intelligence', u'behind', u'it.', u\"It's\", u'a', u'pathetic', u'movie', u'and', u\"I'd\", u'like', u'to', u'meet', u'the', u'person', u'who', u'actually', u'likes', u'this', u'movie.', u'Yuck!'], [u'This', u'movie', u'really', u'is', u'a', u'mixed', u'bag.', u'On', u'the', u'one', u'hand,', u'the', u'story', u'and', u'concept', u'of', u'the', u'movie', u'are', u'really', u'good,', u'tense', u'and', u'have', u'some', u'nice', u'plot', u'twists', u'in', u'it.', u'But', u'than', u'again', u'on', u'the', u'other', u'hand,', u'it', u'all', u'is', u'told', u'very', u'slow,', u'without', u'style', u'and', u'uninvolved.', u'Still', u'I', u'regard', u'\"Just', u'Cause\"', u'as', u'an', u'above', u'average', u'thriller', u'simply', u'because', u'of', u'the', u'fine', u'cast.<br', u'/><br', u'/>Maybe', u'Sean', u'Connery', u'was', u'miscast', u'in', u'his', u'role.', u'I', u'mean,', u'he', u\"isn't\", u'really', u'that', u'believable', u'as', u'a', u'the', u'main', u\"'hero'\", u'and', u'father', u'of', u'a', u'young', u'daughter', u'(played', u'by', u'a', u'still', u'very', u'young', u'Scarlett', u'Johansson', u'by', u'the', u'way)', u'and', u'husband', u'of', u'Kate', u'Capshaw.', u'I', u'feel', u'that', u'he', u'simply', u'was', u'too', u'old', u'for', u'the', u'role', u'to', u'be', u'really', u'credible', u'in', u'it.', u'However', u'Sean', u'Connerey', u'is', u'of', u'course', u'a', u'great', u'actor', u'and', u'that', u'is', u'the', u'only', u'reason', u'why', u'he', u'is', u'still', u'able', u'to', u'carry', u'the', u'movie', u'as', u'good', u'as', u'he', u'does.', u'But', u'he', u'of', u'course', u'is', u'helped', u'by', u'a', u'very', u'solid', u'supporting', u'cast', u'that', u'consists', u'out', u'of', u'actors', u'like', u'Laurence', u'Fishburne,', u'Blair', u'Underwood,', u'Ned', u'Beatty,', u'Hope', u'Lange,', u'Lynne', u'Thigpen', u'and', u'Ed', u'Harris.', u'All', u'actors', u'are', u'really', u'good', u'but', u'some', u'of', u'them', u'are', u'highly', u'underused', u'at', u'the', u'same', u'time,', u'which', u'is', u'a', u'real', u'shame,', u'as', u'well', u'as', u'a', u'missed', u'opportunity.', u'Especially', u'Ed', u'Harris', u'is', u'just', u'totally', u'great', u'in', u'his', u'role', u'as', u'a', u'psychopathic', u'serial', u'killer.', u\"He's\", u'truly', u'chilling', u'and', u'acting', u'superbly.', u'Normally', u'he', u\"doesn't\", u'play', u'this', u'ruthless,', u'chilling', u'sort', u'of', u'roles', u'in', u'movies,', u'so', u'he', u'really', u'surprises', u'with', u'his', u'role', u'in', u'this', u'one.', u'His', u'performance', u'alone', u'is', u'already', u'more', u'than', u'enough', u'reason', u'to', u'watch', u'this', u'movie.', u'However', u'due', u'to', u'the', u'fact', u'that', u'the', u'story', u'is', u'told', u'without', u'much', u'style', u'and', u'too', u'formulaic,', u'none', u'of', u'the', u'characters', u'in', u'the', u'movie', u'really', u'work', u'out', u'well', u'because', u'it', u'feels', u'all', u'too', u'distant.<br', u'/><br', u'/>It', u'really', u'is', u'the', u'way', u'of', u'storytelling', u'that', u'kills', u'all', u'the', u'movie', u'its', u'fine', u'potential.', u'Arne', u'Glimcher', u'directs', u'the', u'movie', u'with', u'little', u'style', u'and', u'keeps', u'the', u'pace', u'too', u'low', u'at', u'times.', u'Because', u'of', u'this,', u'we', u'as', u'viewers,', u'never', u'really', u'get', u'involved', u'with', u'the', u'story', u'or', u'any', u'of', u\"it's\", u'characters.<br', u'/><br', u'/>It', u'really', u'is', u'too', u'bad,', u'for', u'\"Just', u'Cause\"', u'had', u'more', u'than', u'enough', u'potential.', u'A', u'fine', u'cast', u'and', u'a', u'slick', u'story', u'with', u'some', u'unexpected', u'twists', u'and', u'turns', u'in', u'it', u'in', u'which', u'nothing', u'is', u'what', u'it', u'seems.', u'The', u'cast', u'and', u'story', u'are', u'the', u'only', u'reason', u'why', u'this', u'movie', u'is', u'still', u'an', u'above', u'average', u'thriller,', u'that', u'will', u'probably', u'still', u'please', u'the', u'fan', u'of', u'the', u'genre.', u'It', u'however', u'is', u'an', u'eternal', u'shame', u'that', u'the', u'movie', u'is', u'lacking', u'in', u'its', u'story', u'telling', u'and', u'style,', u'or', u'else', u'this', u'movie', u'could', u'had', u'been', u'a', u'real', u'classic', u'in', u'its', u'genre.<br', u'/><br', u'/>7/10']]\n",
      "21\n",
      "set([u'enjoy', u'even', u'great', u'made', u'like', u'supporting', u'brilliant', u'movie', u'never', u'watch', u'think', u'work', u'actors', u'know', u'every', u'time', u'well', u'role', u'still', u'worth', u'film'])\n",
      " [nrows 5, ncols 21, nnz 34]\n"
     ]
    }
   ],
   "source": [
    "print(trainingData);\n",
    "docsTrainData = [l.split() for l in trainingData['review']]\n",
    "print(docsTrainData)\n",
    "matTrainData  = build_matrix(docsTrainData);\n",
    "csr_info(matTrainData);\n",
    "\n",
    "# print (matOflinesOfTrainData[:1])\n",
    "\n",
    "# print(linesOfTestData[:1])\n",
    "# docslinesOfTestData = [l.split() for l in linesOfTestData]\n",
    "# matOflinesOfTestData  = build_matrix(docslinesOfTestData)\n",
    "# csr_info(matOflinesOfTestData)\n",
    "# print (matOflinesOfTestData[:1])"
   ]
  }
 ],
 "metadata": {
  "kernelspec": {
   "display_name": "Python 2",
   "language": "python",
   "name": "python2"
  },
  "language_info": {
   "codemirror_mode": {
    "name": "ipython",
    "version": 2
   },
   "file_extension": ".py",
   "mimetype": "text/x-python",
   "name": "python",
   "nbconvert_exporter": "python",
   "pygments_lexer": "ipython2",
   "version": "2.7.13"
  }
 },
 "nbformat": 4,
 "nbformat_minor": 2
}
